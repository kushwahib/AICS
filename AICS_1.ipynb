{
  "nbformat": 4,
  "nbformat_minor": 0,
  "metadata": {
    "colab": {
      "provenance": [],
      "collapsed_sections": [],
      "authorship_tag": "ABX9TyPgO9Gb/KcMh4MXmda6MD1h",
      "include_colab_link": true
    },
    "kernelspec": {
      "name": "python3",
      "display_name": "Python 3"
    },
    "language_info": {
      "name": "python"
    }
  },
  "cells": [
    {
      "cell_type": "markdown",
      "metadata": {
        "id": "view-in-github",
        "colab_type": "text"
      },
      "source": [
        "<a href=\"https://colab.research.google.com/github/kushwahib/AICS/blob/main/AICS_1.ipynb\" target=\"_parent\"><img src=\"https://colab.research.google.com/assets/colab-badge.svg\" alt=\"Open In Colab\"/></a>"
      ]
    },
    {
      "cell_type": "markdown",
      "source": [
        "## Any 3 function on Dictionary\n",
        "\n",
        "\n",
        "\n"
      ],
      "metadata": {
        "id": "pkUNta_NZ8Gm"
      }
    },
    {
      "cell_type": "code",
      "source": [
        "dict1 = {'Name': 'Isha', 'Age': 19, 'Sem': 'Fifth'}\n",
        "print (\"dict['Name']: \", dict1['Name'])\n",
        "print (\"dict['Age']: \", dict1['Age'])"
      ],
      "metadata": {
        "id": "KQAJQau-NNJp",
        "colab": {
          "base_uri": "https://localhost:8080/"
        },
        "outputId": "1f6dfb32-ff09-4ed9-8b83-2571b9efe960"
      },
      "execution_count": 3,
      "outputs": [
        {
          "output_type": "stream",
          "name": "stdout",
          "text": [
            "dict['Name']:  Isha\n",
            "dict['Age']:  19\n"
          ]
        }
      ]
    },
    {
      "cell_type": "code",
      "source": [
        "dict2 = {'Name': 'Isha', 'Age': 19, 'Sem': 'Fifth'}\n",
        "dict2['Age'] = 20; # update existing entry\n",
        "dict2['College'] = \"RCOEM\" # Add new entry\n",
        "\n",
        "print (\"dict['Age']: \", dict2['Age'])\n",
        "print (\"dict['School']: \", dict2['College'])"
      ],
      "metadata": {
        "colab": {
          "base_uri": "https://localhost:8080/"
        },
        "id": "k1sNWJQoHvmX",
        "outputId": "c58b5662-9e98-475a-8a14-3403abe7e69e"
      },
      "execution_count": 5,
      "outputs": [
        {
          "output_type": "stream",
          "name": "stdout",
          "text": [
            "dict['Age']:  20\n",
            "dict['School']:  RCOEM\n"
          ]
        }
      ]
    },
    {
      "cell_type": "code",
      "source": [
        "squares = {1: 1, 3: 9, 5: 25, 7: 49, 9: 81}\n",
        "print(1 in squares)\n",
        "print(2 not in squares)\n",
        "print(49 in squares)"
      ],
      "metadata": {
        "colab": {
          "base_uri": "https://localhost:8080/"
        },
        "id": "ho0F-wcMJ2Vu",
        "outputId": "fe3412cd-139e-40c0-cfdb-34c3fbba6b72"
      },
      "execution_count": 11,
      "outputs": [
        {
          "output_type": "stream",
          "name": "stdout",
          "text": [
            "True\n",
            "True\n",
            "False\n"
          ]
        }
      ]
    },
    {
      "cell_type": "markdown",
      "source": [
        "## Any 3 function on List"
      ],
      "metadata": {
        "id": "743MV0GXL_2m"
      }
    },
    {
      "cell_type": "code",
      "source": [
        "list1 = [\"AICS\",10,40.6]\n",
        "print(\"List before append()method\")\n",
        "print(list1)\n",
        "list1.append(20)\n",
        "print(\"List after append()method\")\n",
        "print(list1)"
      ],
      "metadata": {
        "colab": {
          "base_uri": "https://localhost:8080/"
        },
        "id": "_v_q4sPjKk9W",
        "outputId": "a906775c-7b25-404a-c7ad-ea3a884dd487"
      },
      "execution_count": 12,
      "outputs": [
        {
          "output_type": "stream",
          "name": "stdout",
          "text": [
            "List before append()method\n",
            "['AICS', 10, 40.6]\n",
            "List after append()method\n",
            "['AICS', 10, 40.6, 20]\n"
          ]
        }
      ]
    },
    {
      "cell_type": "code",
      "source": [
        "list1 = [\"AI\",10,40.6]\n",
        "list2 =[\"Big Data\",30,\"Machine Learning\",20]\n",
        "print(\"Lists before extend()method\")\n",
        "print(list1)\n",
        "print(list2)\n",
        "list1.extend(list2)\n",
        "print(\"List after extend()method\")\n",
        "print(list1)"
      ],
      "metadata": {
        "colab": {
          "base_uri": "https://localhost:8080/"
        },
        "id": "mRk8mW4xNt5O",
        "outputId": "129b6d24-fa6a-48f4-98ac-215a787c164d"
      },
      "execution_count": 13,
      "outputs": [
        {
          "output_type": "stream",
          "name": "stdout",
          "text": [
            "Lists before extend()method\n",
            "['AI', 10, 40.6]\n",
            "['Big Data', 30, 'Machine Learning', 20]\n",
            "List after extend()method\n",
            "['AI', 10, 40.6, 'Big Data', 30, 'Machine Learning', 20]\n"
          ]
        }
      ]
    },
    {
      "cell_type": "code",
      "source": [
        "list1 = [\"Cyber Security\",10,40.6,20,10,50,10]\n",
        "print(\"List before reverse()method\")\n",
        "print(list1)\n",
        "list1.reverse()\n",
        "print(\"List after the reverse() method\")\n",
        "print(list1)"
      ],
      "metadata": {
        "colab": {
          "base_uri": "https://localhost:8080/"
        },
        "id": "WueHI122N_82",
        "outputId": "c4db4d2c-f633-43b8-cfbc-ac3b08ddd642"
      },
      "execution_count": 15,
      "outputs": [
        {
          "output_type": "stream",
          "name": "stdout",
          "text": [
            "List before reverse()method\n",
            "['Cyber Security', 10, 40.6, 20, 10, 50, 10]\n",
            "List after the reverse() method\n",
            "[10, 50, 10, 20, 40.6, 10, 'Cyber Security']\n"
          ]
        }
      ]
    },
    {
      "cell_type": "code",
      "source": [],
      "metadata": {
        "id": "rc5LyoxnOXZ2"
      },
      "execution_count": null,
      "outputs": []
    }
  ]
}